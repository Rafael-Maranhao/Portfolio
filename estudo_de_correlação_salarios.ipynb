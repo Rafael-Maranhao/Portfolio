{
  "nbformat": 4,
  "nbformat_minor": 0,
  "metadata": {
    "colab": {
      "provenance": [],
      "toc_visible": true,
      "authorship_tag": "ABX9TyMIg/GuJfyX+dngDvhK8T5s",
      "include_colab_link": true
    },
    "kernelspec": {
      "name": "python3",
      "display_name": "Python 3"
    },
    "language_info": {
      "name": "python"
    }
  },
  "cells": [
    {
      "cell_type": "markdown",
      "metadata": {
        "id": "view-in-github",
        "colab_type": "text"
      },
      "source": [
        "<a href=\"https://colab.research.google.com/github/Rafael-Maranhao/portfolio/blob/main/estudo_de_correla%C3%A7%C3%A3o_salarios.ipynb\" target=\"_parent\"><img src=\"https://colab.research.google.com/assets/colab-badge.svg\" alt=\"Open In Colab\"/></a>"
      ]
    },
    {
      "cell_type": "markdown",
      "source": [
        " ## 📊 Importação de Bibliotecas"
      ],
      "metadata": {
        "id": "HwAkAbBgVM09"
      }
    },
    {
      "cell_type": "code",
      "execution_count": null,
      "metadata": {
        "id": "aXnCB48GTksH"
      },
      "outputs": [],
      "source": [
        "import pandas as pd"
      ]
    },
    {
      "cell_type": "markdown",
      "source": [
        "## 🗃️ Carregamento dos dados"
      ],
      "metadata": {
        "id": "G_SchjFzWQq7"
      }
    },
    {
      "cell_type": "code",
      "source": [
        "df = pd.read_csv('dataset_salarios.csv')\n",
        "\n",
        "print(\"Colunas disponíveis no dataset:\")\n",
        "print(df.columns.tolist())"
      ],
      "metadata": {
        "colab": {
          "base_uri": "https://localhost:8080/"
        },
        "id": "48SqR0pvWc-j",
        "outputId": "d6c16684-55eb-4074-ab38-5416cd3a98b3"
      },
      "execution_count": null,
      "outputs": [
        {
          "output_type": "stream",
          "name": "stdout",
          "text": [
            "Colunas disponíveis no dataset:\n",
            "['work_year', 'experience_level', 'employment_type', 'job_title', 'salary', 'salary_currency', 'salary_in_usd', 'employee_residence', 'remote_ratio', 'company_location', 'company_size']\n"
          ]
        }
      ]
    },
    {
      "cell_type": "markdown",
      "source": [
        "## 🧹 Pré-processamento dos dados"
      ],
      "metadata": {
        "id": "eoPbJPa8WdnZ"
      }
    },
    {
      "cell_type": "code",
      "source": [
        "from sklearn.preprocessing import LabelEncoder\n",
        "\n",
        "# 1. Codifica título do cargo\n",
        "encoder_job = LabelEncoder()\n",
        "df['cargo_encoded'] = encoder_job.fit_transform(df['job_title'])\n",
        "\n",
        "# 2. Codifica tamanho da empresa\n",
        "encoder_size = LabelEncoder()\n",
        "df['tamanho_empresa_encoded'] = encoder_size.fit_transform(df['company_size'])\n",
        "\n",
        "# 3. Converte remote_ratio para binário (100 = remoto, outros = não-remoto)\n",
        "df['remoto_binario'] = df['remote_ratio'].apply(lambda x: 1 if x == 100 else 0)"
      ],
      "metadata": {
        "id": "iMUR3dBaWgrc"
      },
      "execution_count": null,
      "outputs": []
    },
    {
      "cell_type": "markdown",
      "source": [
        "## 🔍 Seleção de Variáveis"
      ],
      "metadata": {
        "id": "ntooJbLLW3CC"
      }
    },
    {
      "cell_type": "code",
      "source": [
        "# Define variáveis independentes (X) e dependente (y)\n",
        "X = df[['cargo_encoded', 'tamanho_empresa_encoded', 'remoto_binario']]\n",
        "y = df['salary_in_usd']"
      ],
      "metadata": {
        "id": "1VMiOKpoW6kF"
      },
      "execution_count": null,
      "outputs": []
    },
    {
      "cell_type": "markdown",
      "source": [
        "## 📈 Modelagem e *Cálculos*\n",
        "\n"
      ],
      "metadata": {
        "id": "1wtc-02oW9Mn"
      }
    },
    {
      "cell_type": "code",
      "source": [
        "from sklearn.linear_model import LinearRegression\n",
        "modelo = LinearRegression()\n",
        "modelo.fit(X, y)\n",
        "r_quadrado = modelo.score(X, y)\n",
        "\n",
        "def calcula_r2_variavel(X_col, y):\n",
        "    modelo = LinearRegression()\n",
        "    modelo.fit(X_col.values.reshape(-1, 1), y)\n",
        "    return modelo.score(X_col.values.reshape(-1, 1), y)\n",
        "\n",
        "r2_job = calcula_r2_variavel(df['cargo_encoded'], y)\n",
        "r2_size = calcula_r2_variavel(df['tamanho_empresa_encoded'], y)\n",
        "r2_remoto = calcula_r2_variavel(df['remoto_binario'], y)\n",
        "\n",
        "# Regressão multivariada\n",
        "modelo = LinearRegression()\n",
        "modelo.fit(X, y)\n",
        "\n",
        "# Coeficientes\n",
        "coeficientes = pd.Series(modelo.coef_, index=X.columns)\n",
        "\n",
        "from scipy import stats\n",
        "import numpy as np\n",
        "\n",
        "# Calcula p-valores manualmente\n",
        "X_with_const = np.column_stack([np.ones(len(X)), X])  # Adiciona intercepto\n",
        "params = np.append(modelo.intercept_, modelo.coef_)\n",
        "predictions = modelo.predict(X)\n",
        "\n",
        "mse = np.sum((y - predictions) ** 2) / (X_with_const.shape[0] - X_with_const.shape[1])\n",
        "var_b = mse * np.linalg.inv(np.dot(X_with_const.T, X_with_const)).diagonal()\n",
        "sd_b = np.sqrt(var_b)\n",
        "t_b = params / sd_b\n",
        "p_values = [2 * (1 - stats.t.cdf(np.abs(i), (len(X) - len(X_with_const[0])))) for i in t_b]\n",
        "\n",
        "# Cria uma tabela resumo\n",
        "import pandas as pd\n",
        "coef_df = pd.DataFrame({\n",
        "    \"Variável\": [\"Intercepto\"] + list(X.columns),\n",
        "    \"Coeficiente\": params,\n",
        "    \"Erro Padrão\": sd_b,\n",
        "    \"t-stat\": t_b,\n",
        "    \"p-valor\": p_values\n",
        "})"
      ],
      "metadata": {
        "id": "tenbvYfNW-d6"
      },
      "execution_count": null,
      "outputs": []
    },
    {
      "cell_type": "markdown",
      "source": [
        "## 🎯 Resultados"
      ],
      "metadata": {
        "id": "RgKh8Tl-XCSH"
      }
    },
    {
      "cell_type": "code",
      "source": [
        "print(f\"\\nR² do modelo: {r_quadrado:.4f} ({r_quadrado*100:.2f}%)\\n\")  # Corrigido formatação\n",
        "\n",
        "print(\"\\nVariáveis consideradas:\\n\")  # Adicionado \\n antes e depois\n",
        "\n",
        "print(f\"R² - Título do cargo: {r2_job:.4f}\\n\")  # \\n no final\n",
        "print(f\"R² - Tamanho da empresa: {r2_size:.4f}\\n\")\n",
        "print(f\"R² - Trabalho remoto: {r2_remoto:.4f}\\n\")\n",
        "\n",
        "print(\"\\n★ Coeficientes da regressão multivariada:\\n\")  # Espaçamento extra\n",
        "print(coeficientes.to_string())  # Melhor formatação para Series\n",
        "print(\"\\n\" + coef_df.to_string())  # DataFrame com quebra de linha"
      ],
      "metadata": {
        "colab": {
          "base_uri": "https://localhost:8080/"
        },
        "id": "ufuCrp56XEbb",
        "outputId": "5baec4f7-a80d-431f-a383-92a55c440fa2"
      },
      "execution_count": null,
      "outputs": [
        {
          "output_type": "stream",
          "name": "stdout",
          "text": [
            "\n",
            "R² do modelo: 0.0523 (5.23%)\n",
            "\n",
            "\n",
            "Variáveis consideradas:\n",
            "\n",
            "R² - Título do cargo: 0.0507\n",
            "\n",
            "R² - Tamanho da empresa: 0.0001\n",
            "\n",
            "R² - Trabalho remoto: 0.0017\n",
            "\n",
            "\n",
            "★ Coeficientes da regressão multivariada:\n",
            "\n",
            "cargo_encoded               438.966428\n",
            "tamanho_empresa_encoded   -7633.750849\n",
            "remoto_binario            -3587.501049\n",
            "\n",
            "                  Variável    Coeficiente  Erro Padrão     t-stat   p-valor\n",
            "0               Intercepto  125730.752122  2141.027518  58.724491  0.000000\n",
            "1            cargo_encoded     438.966428    14.791164  29.677612  0.000000\n",
            "2  tamanho_empresa_encoded   -7633.750849  1950.066772  -3.914610  0.000091\n",
            "3           remoto_binario   -3587.501049  1123.275393  -3.193786  0.001407\n"
          ]
        }
      ]
    },
    {
      "cell_type": "markdown",
      "source": [
        "## 📊 Interpretação dos Resultados\n",
        "\n",
        "<br>\n",
        "<br>\n",
        "\n",
        "📉 Poder Explicativo (R² = 5,23%):\n",
        "\n",
        "O modelo explica apenas 5,23% da variação salarial → 94,77% depende de outros fatores (ex.: experiência, educação).\n",
        "\n",
        "<br>\n",
        "<br>\n",
        "\n",
        "🔍 Contribuição Individual das Variáveis (R² Parcial):\n",
        "\n",
        "<br>\n",
        "\n",
        "💼 Cargo: Explica 5,07% (variável mais relevante).\n",
        "\n",
        "🏢 Tamanho da Empresa: 0,01% (praticamente irrelevante).\n",
        "\n",
        "🏠 Remoto: 0,17% (impacto mínimo).\n",
        "\n",
        "<br>\n",
        "<br>\n",
        "\n",
        "🔍 Impacto das Variáveis (p < 0.05):\n",
        "\n",
        "<br>\n",
        "\n",
        "💼 Cargo: ➕ USD 438,97 anual (p=0.000) → Quanto maior o nível do cargo, maior o salário. ✅ Forte impacto\n",
        "\n",
        "🏢 Tamanho da Empresa: ➖ USD 7.633,75 anual (p=0.001) → Empresas maiores pagam menos (resultado inesperado, mas válido).\n",
        "\n",
        "🏠 Remoto: ➖ USD 3.587,50 anual (p=0.001) → Vagas remotas pagam significativamente menos que presenciais/híbridas.\n",
        "\n",
        "<br>\n",
        "<br>\n",
        "\n",
        "📉 Contexto Importante\n",
        "\n",
        "<br>\n",
        "\n",
        "1. Valores Absolutos:\n",
        "\n",
        "- O impacto do cargo (+439) é pequeno em comparação com a penalidade de empresas grandes (-7.6k) e remoto (-$3.6k);\n",
        "\n",
        "- Exemplo: Um cargo alto em empresa grande e remoto pode ter salário reduzido em ~$11.2k/ano.\n",
        "\n",
        "<br>\n",
        "\n",
        "2.\tR² Baixo (5.23%):\n",
        "- o\tEsses fatores explicam apenas 5% da variação salarial. Variáveis não capturadas (ex.: experiência, localização, setor) dominam a explicação.\n",
        "\n",
        "\n",
        "<br>\n",
        "<br>\n",
        "\n",
        "🎯 Conclusão:\n",
        "\n",
        "- O cargo tem alguma influência nos salários, mas as outras variáveis (tamanho da empresa e remoto) são pouco relevantes e/ou mal representadas no modelo.\n",
        "- Variáveis analisadas são estatisticamente significativas, mas explicam pouco sobre salários.\n",
        "\n",
        "<br>\n",
        "\n",
        "⚠️ Cuidado! Correlação ≠ causalidade (ex.: \"remoto pagar menos\" pode ser viés de variáveis não coletadas).\n",
        "\n",
        "<br>\n",
        "\n",
        "🚀 Próximos passos:\n",
        "- Adicione mais variáveis (experiência, formação, setor) para melhorar o modelo;\n",
        "- Investigar o paradoxo de empresas grandes: Pode refletir viés de setor (ex.: startups pagam mais que corporações tradicionais;\n",
        "- Analisar interações: O efeito negativo do remoto pode variar por cargo ou região;\n",
        "- Coletar mais dados: Incluir senioridade, educação e benefícios (ex.: bônus, ações) *(Dica: Converta para salário mensal se necessário: 3.6k/ano= 3.6k/ano= 300/mês de diferença remoto vs. presencial.)*\n"
      ],
      "metadata": {
        "id": "jkv7frIjfN_E"
      }
    },
    {
      "cell_type": "markdown",
      "source": [
        "## 💾 Exportação dos Resultados"
      ],
      "metadata": {
        "id": "QT0xOk9zXFrs"
      }
    },
    {
      "cell_type": "code",
      "source": [
        "df.to_csv('salarios_processados.csv', index=False)\n",
        "print(\"\\nDataset processado salvo como 'salarios_processados.csv'\")"
      ],
      "metadata": {
        "colab": {
          "base_uri": "https://localhost:8080/"
        },
        "id": "IvICH31bXIO1",
        "outputId": "53fab619-7f8d-42f5-f6e1-9a3b3258c27d"
      },
      "execution_count": null,
      "outputs": [
        {
          "output_type": "stream",
          "name": "stdout",
          "text": [
            "\n",
            "Dataset processado salvo como 'salarios_processados.csv'\n"
          ]
        }
      ]
    }
  ]
}