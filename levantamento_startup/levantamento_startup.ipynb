{
  "nbformat": 4,
  "nbformat_minor": 0,
  "metadata": {
    "colab": {
      "provenance": [],
      "authorship_tag": "ABX9TyP5xDjhO4KIop3IlpSRvL4N",
      "include_colab_link": true
    },
    "kernelspec": {
      "name": "python3",
      "display_name": "Python 3"
    },
    "language_info": {
      "name": "python"
    }
  },
  "cells": [
    {
      "cell_type": "markdown",
      "metadata": {
        "id": "view-in-github",
        "colab_type": "text"
      },
      "source": [
        "<a href=\"https://colab.research.google.com/github/Rafael-Maranhao/portfolio/blob/main/notebook_startup.ipynb\" target=\"_parent\"><img src=\"https://colab.research.google.com/assets/colab-badge.svg\" alt=\"Open In Colab\"/></a>"
      ]
    },
    {
      "cell_type": "markdown",
      "source": [
        "#🌱 Levantamento de Dados: Filial de Startup Agrícola\n",
        "<br>\n",
        "\n",
        "#### Objetivo\n",
        "\n",
        "<br>\n",
        "\n",
        "##### Identificar as melhores cidades para instalação de um novo escritório, considerando:\n",
        "<br>\n",
        "\n",
        "##### 🏙️ Top 100 cidades mais populosas do Brasil;\n",
        "\n",
        "\n",
        "##### 🌾 Ter áreas produtoras de soja.\n",
        "\n",
        "<br>\n",
        "<br>"
      ],
      "metadata": {
        "id": "O7vhgliqVKXh"
      }
    },
    {
      "cell_type": "markdown",
      "source": [
        "### 📚 Importação de Bibliotecas"
      ],
      "metadata": {
        "id": "rss-frFqXttp"
      }
    },
    {
      "cell_type": "code",
      "source": [
        "import urllib3\n",
        "import json\n",
        "import pandas as pd\n",
        "import os"
      ],
      "metadata": {
        "id": "jWQKv8MZOsBj"
      },
      "execution_count": 58,
      "outputs": []
    },
    {
      "cell_type": "markdown",
      "source": [
        "### 🔍 Visualização Completa (Pandas)  "
      ],
      "metadata": {
        "id": "EGqMdBjabDIp"
      }
    },
    {
      "cell_type": "code",
      "source": [
        "pd.set_option('display.max_columns', None)\n",
        "pd.set_option('display.max_rows', None)"
      ],
      "metadata": {
        "id": "mxHnIm-YbLD6"
      },
      "execution_count": 59,
      "outputs": []
    },
    {
      "cell_type": "markdown",
      "source": [
        "### 📡 Importação de dados da API do IBGE"
      ],
      "metadata": {
        "id": "F5wbaDxMbSqU"
      }
    },
    {
      "cell_type": "code",
      "source": [
        "# Função para obter dados da API com tratamento de erro\n",
        "def get_data(url):\n",
        "    http = urllib3.PoolManager()\n",
        "    try:\n",
        "        r = http.request('GET', url)\n",
        "        return json.loads(r.data)\n",
        "    except Exception as e:\n",
        "        print(f\"Erro ao acessar API: {str(e)}\")\n",
        "        return None\n",
        "\n",
        "# Obter dados\n",
        "print(\"Coletando dados de população...\")\n",
        "dados_populacao = get_data('https://servicodados.ibge.gov.br/api/v3/agregados/6579/periodos/2021/variaveis/9324?localidades=N6[all]')\n",
        "\n",
        "print(\"Coletando dados de área de soja...\")\n",
        "dados_soja = get_data('https://servicodados.ibge.gov.br/api/v3/agregados/1612/periodos/2021/variaveis/109?localidades=N6[all]&classificacao=81[2713]')"
      ],
      "metadata": {
        "colab": {
          "base_uri": "https://localhost:8080/"
        },
        "id": "Z9ymjNxfbTA8",
        "outputId": "a30c0825-789e-4625-8dee-5b591d57c05a"
      },
      "execution_count": 60,
      "outputs": [
        {
          "output_type": "stream",
          "name": "stdout",
          "text": [
            "Coletando dados de população...\n",
            "Coletando dados de área de soja...\n"
          ]
        }
      ]
    },
    {
      "cell_type": "markdown",
      "source": [
        "### 📊 Processamento dos dados (criação de dataframes para os dados de população e de área de soja)"
      ],
      "metadata": {
        "id": "c9d4lveEdYoX"
      }
    },
    {
      "cell_type": "code",
      "source": [
        "# Função para processar dados de população\n",
        "def processar_populacao(dados):\n",
        "    municipios = []\n",
        "    if dados and len(dados) > 0:\n",
        "        for item in dados[0]['resultados'][0]['series']:\n",
        "            try:\n",
        "                municipios.append({\n",
        "                    'codigo': item['localidade']['id'],\n",
        "                    'municipio': item['localidade']['nome'],\n",
        "                    'populacao': int(item['serie']['2021'])\n",
        "                })\n",
        "            except:\n",
        "                continue\n",
        "    return pd.DataFrame(municipios)\n",
        "\n",
        "# Função para processar dados de soja\n",
        "def processar_soja(dados):\n",
        "    municipios = []\n",
        "    if dados and len(dados) > 0:\n",
        "        for item in dados[0]['resultados'][0]['series']:\n",
        "            try:\n",
        "                valor = item['serie']['2021']\n",
        "                # Considera apenas valores numéricos positivos\n",
        "                if valor not in ['-', '...', '0']:\n",
        "                    area = float(valor)\n",
        "                    if area > 0:\n",
        "                        municipios.append({\n",
        "                            'codigo': item['localidade']['id'],\n",
        "                            'municipio': item['localidade']['nome'],\n",
        "                            'area_soja': area\n",
        "                        })\n",
        "            except:\n",
        "                continue\n",
        "    return pd.DataFrame(municipios)\n",
        "\n",
        "# Processar os dados\n",
        "print(\"Processando dados...\")\n",
        "df_pop = processar_populacao(dados_populacao)\n",
        "df_soja = processar_soja(dados_soja)"
      ],
      "metadata": {
        "colab": {
          "base_uri": "https://localhost:8080/"
        },
        "id": "bUHQ4DlFdgU4",
        "outputId": "de9a59ea-8d1e-42b0-f37c-72fe0cf9ba98"
      },
      "execution_count": 61,
      "outputs": [
        {
          "output_type": "stream",
          "name": "stdout",
          "text": [
            "Processando dados...\n"
          ]
        }
      ]
    },
    {
      "cell_type": "markdown",
      "source": [
        "### 🏙️ Filtragem dos 100 Municípios Mais Populosos"
      ],
      "metadata": {
        "id": "SN54J8IPeaeS"
      }
    },
    {
      "cell_type": "code",
      "source": [
        "top_100_pop = df_pop.nlargest(100, 'populacao')"
      ],
      "metadata": {
        "id": "a7zdIB2zfV2r"
      },
      "execution_count": 62,
      "outputs": []
    },
    {
      "cell_type": "markdown",
      "source": [
        "### 🔄 Cruzamento de Dados (de população com de áreas de soja)"
      ],
      "metadata": {
        "id": "jCP0_wSXfYxY"
      }
    },
    {
      "cell_type": "code",
      "source": [
        "df_final = pd.merge(top_100_pop, df_soja, on=['codigo', 'municipio'], how='inner')"
      ],
      "metadata": {
        "id": "UA80v8IBfa5k"
      },
      "execution_count": 63,
      "outputs": []
    },
    {
      "cell_type": "markdown",
      "source": [
        "### 📊 Ordenação Final"
      ],
      "metadata": {
        "id": "zQZaMHH3fiYJ"
      }
    },
    {
      "cell_type": "code",
      "source": [
        "df_final = df_final.sort_values('populacao', ascending=False)"
      ],
      "metadata": {
        "id": "EulNXagXfila"
      },
      "execution_count": 64,
      "outputs": []
    },
    {
      "cell_type": "markdown",
      "source": [
        "### ✨ Formatação dos Resultados"
      ],
      "metadata": {
        "id": "_z9d5VW6fpV7"
      }
    },
    {
      "cell_type": "code",
      "source": [
        "df_final['area_soja'] = df_final['area_soja'].apply(lambda x: f\"{x:,.0f} ha\")\n",
        "df_final['populacao'] = df_final['populacao'].apply(lambda x: f\"{x:,}\")"
      ],
      "metadata": {
        "id": "AsYz7FDcfrLL"
      },
      "execution_count": 65,
      "outputs": []
    },
    {
      "cell_type": "markdown",
      "source": [
        "### 🎯 Resultados Finais"
      ],
      "metadata": {
        "id": "Wm77XHpRftav"
      }
    },
    {
      "cell_type": "code",
      "source": [
        "print(\"\\n\" + \"=\"*80)\n",
        "print(\"MUNICÍPIOS RECOMENDADOS PARA O NOVO ESCRITÓRIO\".center(80))\n",
        "print(\"(Entre os 100 mais populosos com produção de soja > 0)\".center(80))\n",
        "print(\"=\"*80 + \"\\n\")\n",
        "\n",
        "# Configurar a formatação da tabela\n",
        "from tabulate import tabulate\n",
        "\n",
        "# Formatar os dados para exibição\n",
        "df_display = df_final[['municipio', 'populacao', 'area_soja']].copy()\n",
        "df_display.columns = ['MUNICÍPIO', 'POPULAÇÃO', 'ÁREA DE SOJA (ha)']  # Renomear colunas\n",
        "\n",
        "# Usar tabulate para melhor formatação\n",
        "print(tabulate(df_display,\n",
        "               headers='keys',\n",
        "               tablefmt='pretty',\n",
        "               stralign='left',\n",
        "               showindex=False,\n",
        "               colalign=('left', 'right', 'right')))\n",
        "\n",
        "print(\"\\n\" + \"=\"*80)\n",
        "print(f\"Total de municípios recomendados: {len(df_final)}\".center(80))\n",
        "print(\"=\"*80)"
      ],
      "metadata": {
        "colab": {
          "base_uri": "https://localhost:8080/"
        },
        "id": "RWyBJMxAga7A",
        "outputId": "ad228861-c4f9-437b-832f-6091434eae25"
      },
      "execution_count": 66,
      "outputs": [
        {
          "output_type": "stream",
          "name": "stdout",
          "text": [
            "\n",
            "================================================================================\n",
            "                 MUNICÍPIOS RECOMENDADOS PARA O NOVO ESCRITÓRIO                 \n",
            "             (Entre os 100 mais populosos com produção de soja > 0)             \n",
            "================================================================================\n",
            "\n",
            "+----------------------------+-----------+-------------------+\n",
            "| MUNICÍPIO                  | POPULAÇÃO | ÁREA DE SOJA (ha) |\n",
            "+----------------------------+-----------+-------------------+\n",
            "| Brasília - DF              | 3,094,325 |         80,000 ha |\n",
            "| Goiânia - GO               | 1,555,626 |          1,150 ha |\n",
            "| Porto Alegre - RS          | 1,492,530 |            398 ha |\n",
            "| Campinas - SP              | 1,223,237 |            800 ha |\n",
            "| Campo Grande - MS          |   916,001 |         94,000 ha |\n",
            "| Ribeirão Preto - SP        |   720,116 |            700 ha |\n",
            "| Uberlândia - MG            |   706,597 |         58,000 ha |\n",
            "| Sorocaba - SP              |   695,328 |            700 ha |\n",
            "| Cuiabá - MT                |   623,614 |            338 ha |\n",
            "| Londrina - PR              |   580,870 |         62,000 ha |\n",
            "| Porto Velho - RO           |   548,952 |         13,100 ha |\n",
            "| Caxias do Sul - RS         |   523,716 |            350 ha |\n",
            "| Macapá - AP                |   522,357 |          2,820 ha |\n",
            "| São José do Rio Preto - SP |   469,173 |            475 ha |\n",
            "| Boa Vista - RR             |   436,591 |         23,121 ha |\n",
            "| Maringá - PR               |   436,472 |         24,500 ha |\n",
            "| Rio Branco - AC            |   419,452 |          1,360 ha |\n",
            "| Piracicaba - SP            |   410,275 |          1,200 ha |\n",
            "| Anápolis - GO              |   396,526 |          4,765 ha |\n",
            "| Ponta Grossa - PR          |   358,838 |         69,743 ha |\n",
            "| Franca - SP                |   358,539 |          1,000 ha |\n",
            "| Canoas - RS                |   349,728 |             80 ha |\n",
            "| Pelotas - RS               |   343,826 |         22,000 ha |\n",
            "| Uberaba - MG               |   340,277 |         85,000 ha |\n",
            "| Cascavel - PR              |   336,073 |         86,600 ha |\n",
            "| São José dos Pinhais - PR  |   334,620 |          1,900 ha |\n",
            "| Taubaté - SP               |   320,820 |            680 ha |\n",
            "| Palmas - TO                |   313,349 |         14,060 ha |\n",
            "| Limeira - SP               |   310,783 |          1,200 ha |\n",
            "| Santarém - PA              |   308,339 |         30,000 ha |\n",
            "| Sumaré - SP                |   289,875 |            500 ha |\n",
            "| Marabá - PA                |   287,664 |            525 ha |\n",
            "| Gravataí - RS              |   285,564 |            500 ha |\n",
            "+----------------------------+-----------+-------------------+\n",
            "\n",
            "================================================================================\n",
            "                      Total de municípios recomendados: 33                      \n",
            "================================================================================\n"
          ]
        }
      ]
    },
    {
      "cell_type": "markdown",
      "source": [
        "### 💾 Exportação dos Resultados"
      ],
      "metadata": {
        "id": "3FOMN3uYgstu"
      }
    },
    {
      "cell_type": "code",
      "source": [
        "# Salvar em CSV (mantendo o original)\n",
        "df_final.to_csv('municipios_recomendados.csv', index=False)\n",
        "print(\"\\nArquivo 'municipios_recomendados.csv' salvo com todos os dados.\")"
      ],
      "metadata": {
        "colab": {
          "base_uri": "https://localhost:8080/"
        },
        "id": "YrFYLW8SgtDQ",
        "outputId": "c575aa72-4861-433b-aba4-592dcd6213a3"
      },
      "execution_count": 67,
      "outputs": [
        {
          "output_type": "stream",
          "name": "stdout",
          "text": [
            "\n",
            "Arquivo 'municipios_recomendados.csv' salvo com todos os dados.\n"
          ]
        }
      ]
    }
  ]
}
